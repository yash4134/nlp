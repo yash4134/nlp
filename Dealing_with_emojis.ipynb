{
  "nbformat": 4,
  "nbformat_minor": 0,
  "metadata": {
    "colab": {
      "provenance": []
    },
    "kernelspec": {
      "name": "python3",
      "display_name": "Python 3"
    },
    "language_info": {
      "name": "python"
    }
  },
  "cells": [
    {
      "cell_type": "code",
      "execution_count": 1,
      "metadata": {
        "colab": {
          "base_uri": "https://localhost:8080/"
        },
        "id": "Llb46jPNcxi3",
        "outputId": "420c8f19-2a1f-4f08-ffd6-a52adc9f10fd"
      },
      "outputs": [
        {
          "output_type": "stream",
          "name": "stdout",
          "text": [
            "Collecting emot\n",
            "  Downloading emot-3.1-py3-none-any.whl.metadata (396 bytes)\n",
            "Downloading emot-3.1-py3-none-any.whl (61 kB)\n",
            "\u001b[?25l   \u001b[90m━━━━━━━━━━━━━━━━━━━━━━━━━━━━━━━━━━━━━━━━\u001b[0m \u001b[32m0.0/61.5 kB\u001b[0m \u001b[31m?\u001b[0m eta \u001b[36m-:--:--\u001b[0m\r\u001b[2K   \u001b[90m━━━━━━━━━━━━━━━━━━━━━━━━━━━━━━━━━━━━━━━━\u001b[0m \u001b[32m61.5/61.5 kB\u001b[0m \u001b[31m2.5 MB/s\u001b[0m eta \u001b[36m0:00:00\u001b[0m\n",
            "\u001b[?25hInstalling collected packages: emot\n",
            "Successfully installed emot-3.1\n"
          ]
        }
      ],
      "source": [
        "!pip install emot"
      ]
    },
    {
      "cell_type": "code",
      "source": [
        "text1 = \"What are you saying 😂. Iam the boss😎, and ehy are so 😔\""
      ],
      "metadata": {
        "id": "nxEk6cAfdLZp"
      },
      "execution_count": 2,
      "outputs": []
    },
    {
      "cell_type": "code",
      "source": [
        "import re\n",
        "from emot.emo_unicode import UNICODE_EMOJI\n",
        "from emot.emo_unicode import EMOTICONS_EMO"
      ],
      "metadata": {
        "id": "UJS27Xmjdrq0"
      },
      "execution_count": 3,
      "outputs": []
    },
    {
      "cell_type": "code",
      "source": [
        "def converting_emojis(text):\n",
        "  for emot in UNICODE_EMOJI:\n",
        "    text = text.replace(emot, \"_\".join(UNICODE_EMOJI[emot].replace(\",\",\"\").replace(\":\",\"\").split()))\n",
        "  return text"
      ],
      "metadata": {
        "id": "MDa_AnhQeXDu"
      },
      "execution_count": 4,
      "outputs": []
    },
    {
      "cell_type": "code",
      "source": [
        "def emoji_removal(string):\n",
        "  emoji_unicodes=re.compile(\"[\"\n",
        "  u\"\\U0001F600-\\U0001F64F\"\n",
        "  u\"\\U0001F300-\\U0001F65FF\"\n",
        "  u\"\\U0001F1E0-\\U0001F1FF\"\n",
        "  u\"\\U00002500-\\U00002BEF\"\n",
        "  u\"\\U00002702-\\U000027B0\"\n",
        "  u\"\\U000024C2-\\U0001F251\"\n",
        "  u\"\\U0001f926-\\U0001f937\"\n",
        "  u\"\\U00010000-\\U0010ffff\"\n",
        "  u\"\\u2640-\\u2642\"\n",
        "  u\"\\u2600-\\u2B55\"\n",
        "  u\"\\U200d\"\n",
        "  u\"\\u23cf\"\n",
        "  u\"\\u23e9\"\n",
        "  u\"\\u231a\"\n",
        "  u\"\\ufe0f\"\n",
        "  u\"\\u3030\" \"]+\",flags = re.UNICODE)\n",
        "  return\n",
        "  emoji_unicodes.sub(r\",string\")\n",
        "  emoji_removal(text1)"
      ],
      "metadata": {
        "colab": {
          "base_uri": "https://localhost:8080/",
          "height": 124
        },
        "id": "H3pB3zBjfyni",
        "outputId": "09293d85-72c4-45cb-b498-6afc5c10bcbb"
      },
      "execution_count": 9,
      "outputs": [
        {
          "output_type": "error",
          "ename": "SyntaxError",
          "evalue": "(unicode error) 'unicodeescape' codec can't decode bytes in position 0-5: truncated \\UXXXXXXXX escape (<ipython-input-9-84e9b7f29571>, line 18)",
          "traceback": [
            "\u001b[0;36m  File \u001b[0;32m\"<ipython-input-9-84e9b7f29571>\"\u001b[0;36m, line \u001b[0;32m18\u001b[0m\n\u001b[0;31m    u\"\\u3030\" \"]+\",flags = re.UNICODE)\u001b[0m\n\u001b[0m                  ^\u001b[0m\n\u001b[0;31mSyntaxError\u001b[0m\u001b[0;31m:\u001b[0m (unicode error) 'unicodeescape' codec can't decode bytes in position 0-5: truncated \\UXXXXXXXX escape\n"
          ]
        }
      ]
    }
  ]
}