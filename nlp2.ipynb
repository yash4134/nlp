{
  "cells": [
    {
      "cell_type": "markdown",
      "metadata": {
        "id": "NSdBPR6ggr5o"
      },
      "source": [
        "Text Similrity"
      ]
    },
    {
      "cell_type": "code",
      "source": [],
      "metadata": {
        "id": "oFoJdZTViTsp"
      },
      "execution_count": null,
      "outputs": []
    },
    {
      "cell_type": "code",
      "execution_count": null,
      "metadata": {
        "id": "2b8eVu3cYmfj"
      },
      "outputs": [],
      "source": [
        "doc_trump = \"Mr. Trump became president after winning the political election. Though he lost the support of some Republican friends, Trump remains friends with President Putin.\"\n",
        "\n",
        "doc_election = \"President Trump says Putin had no political interference in the election outcome. He claims it was a witch hunt by political parties. He stated that President Putin is a friend who had nothing to do with the election.\"\n",
        "\n",
        "doc_putin = \"Post-election, Vladimir Putin became President of Russia. President Putin had previously served as the Prime Minister during his political career.\"\n"
      ]
    },
    {
      "cell_type": "code",
      "execution_count": null,
      "metadata": {
        "id": "COREZbH0Yr1v"
      },
      "outputs": [],
      "source": [
        "from sklearn.feature_extraction.text import CountVectorizer\n",
        "import pandas as pd\n",
        "\n",
        "documents = [\n",
        "    \"Mr. Trump became president after winning the political election. Though he lost the support of some Republican friends, Trump remains friends with President Putin.\",\n",
        "    \"President Trump says Putin had no political interference in the election outcome. He claims it was a witch hunt by political parties. He stated that President Putin is a friend who had nothing to do with the election.\",\n",
        "    \"Post-election, Vladimir Putin became President of Russia. President Putin had previously served as the Prime Minister during his political career.\"\n",
        "]\n",
        "\n",
        "count_vect = CountVectorizer(stop_words=\"english\")\n",
        "\n",
        "sparse_matrix = count_vect.fit_transform(documents)\n",
        "\n",
        "doc_term_matrix = sparse_matrix.todense()\n",
        "\n",
        "\n",
        "df = pd.DataFrame(\n",
        "    doc_term_matrix,\n",
        "    columns=count_vect.get_feature_names_out(),\n",
        "    index=['doc_trump', 'doc_election', 'doc_putin'])\n",
        "\n",
        "print(df)\n"
      ]
    },
    {
      "cell_type": "code",
      "execution_count": null,
      "metadata": {
        "id": "R8M3rgXFbcwj"
      },
      "outputs": [],
      "source": [
        "from sklearn.metrics.pairwise import cosine_similarity\n",
        "print(cosine_similarity(df, df))"
      ]
    },
    {
      "cell_type": "code",
      "execution_count": null,
      "metadata": {
        "id": "i4p1Vtcoc1yF"
      },
      "outputs": [],
      "source": [
        "import numpy as np\n",
        "import matplotlib.pyplot as plt\n",
        "\n",
        "A=np.array([7,3])\n",
        "B=np.array([3,7])\n",
        "ax=plt.axes()\n",
        "ax.arrow(0.0,0.0,A[0],A[1], head_width=0.4,head_length=0.5)\n",
        "plt.annotate(f\"A({A[0]},{A[1]})\", xy=(A[0],A[1]),xytext=(A[0]+0.5, A[1]))\n",
        "ax.arrow(0.0, 0.0, B[0], B[1], head_width=0.4,head_length=0.5)\n",
        "plt.annotate(f\"B({B[0]},{B[1]})\", xy=(B[0],B[1]),xytext=(B[0]+0.5, B[1]))\n",
        "plt.xlim(0,10)\n",
        "plt.ylim(0,10)\n",
        "plt.show()\n",
        "plt.close()\n",
        "\n",
        "cos_sin = np.dot(A,B)/(np.linalg.norm(A)*np.linalg.norm(B))\n",
        "print(f\"Cosine Similarity between A ANd B:{cos_sin}\")\n",
        "print(f\"Cosine Distance between A ANd B:{1-cos_sin}\")"
      ]
    },
    {
      "cell_type": "markdown",
      "metadata": {
        "id": "MbRSFBYOOXGU"
      },
      "source": [
        "Jacard Similarity"
      ]
    },
    {
      "cell_type": "code",
      "execution_count": null,
      "metadata": {
        "id": "9XGpqKaff04B"
      },
      "outputs": [],
      "source": [
        "A = {1,2,3,4,6}\n",
        "B = {1,2,5,8,9}\n",
        "\n",
        "C=A.intersection(B)\n",
        "D=A.union(B)\n",
        "print('AnB =', C)\n",
        "print('AUB =', D)\n",
        "print('J(A,B) = ', float(len(C))/float(len(D)))"
      ]
    },
    {
      "cell_type": "code",
      "execution_count": null,
      "metadata": {
        "id": "eEq-MM0PN11Y"
      },
      "outputs": [],
      "source": [
        "import numpy as np\n",
        "from sklearn.feature_extraction.text import TfidfVectorizer\n",
        "from sklearn.metrics.pairwise import cosine_similarity"
      ]
    },
    {
      "cell_type": "code",
      "execution_count": null,
      "metadata": {
        "id": "8_fiZov2R8UW"
      },
      "outputs": [],
      "source": [
        "user_input=\"How can I track my order?\""
      ]
    },
    {
      "cell_type": "code",
      "execution_count": null,
      "metadata": {
        "id": "uzGB9c1UTCaL"
      },
      "outputs": [],
      "source": [
        "responses=[\n",
        "    \"You can return an item within 7 days of purchase.\",\n",
        "    \"Our return policy allows you to return items that are unopened and in their original condition.\",\n",
        "    \"We offer free shipping on order over $50.\",\n",
        "    \"To track your order, you can visit the 'Order Tracking' page and enter your number.\",\n",
        "    \"Our customer support team is available from 9 AM to 6 PM , Monday through Friday.\"\n",
        "]"
      ]
    },
    {
      "cell_type": "code",
      "execution_count": null,
      "metadata": {
        "id": "0oDyh3XESDqJ"
      },
      "outputs": [],
      "source": [
        "vectorizer = TfidfVectorizer(stop_words='english')\n",
        "all_texts = responses + [user_input]"
      ]
    },
    {
      "cell_type": "code",
      "execution_count": null,
      "metadata": {
        "id": "MGx3yvt7SYd9"
      },
      "outputs": [],
      "source": [
        "tfidf_matrx=vectorizer.fit_transform(all_texts)"
      ]
    },
    {
      "cell_type": "code",
      "execution_count": null,
      "metadata": {
        "id": "7PKK67N-T1wi"
      },
      "outputs": [],
      "source": [
        "user_vector = tfidf_matrx[-1]\n",
        "responses_vectors = tfidf_matrx[:-1]\n",
        "\n",
        "cosine_similarities = cosine_similarity(user_vector, responses_vectors)"
      ]
    },
    {
      "cell_type": "code",
      "execution_count": null,
      "metadata": {
        "id": "BxeD4nRmUelp"
      },
      "outputs": [],
      "source": [
        "most_similar_idx = np.argmax(cosine_similarities)"
      ]
    },
    {
      "cell_type": "code",
      "execution_count": null,
      "metadata": {
        "id": "G43lcA2XUo3s"
      },
      "outputs": [],
      "source": [
        "print(f\"  User Input: {user_input}\")\n",
        "print(f\"Most Similar Response: {responses[most_similar_idx]}\")"
      ]
    },
    {
      "cell_type": "markdown",
      "metadata": {
        "id": "awUcdCkyX0TY"
      },
      "source": [
        "Libraries"
      ]
    },
    {
      "cell_type": "code",
      "execution_count": null,
      "metadata": {
        "id": "eEGZusOxU6b7"
      },
      "outputs": [],
      "source": [
        "import io\n",
        "import random\n",
        "import string\n",
        "import warnings\n",
        "warnings.filterwarnings('ignore')\n",
        "import numpy as np\n",
        "from sklearn.feature_extraction.text import TfidfVectorizer\n",
        "from sklearn.metrics.pairwise import cosine_similarity\n",
        "import nltk\n",
        "from nltk.stem import WordNetLemmatizer"
      ]
    },
    {
      "cell_type": "code",
      "execution_count": null,
      "metadata": {
        "id": "kkIop8RlX3SW"
      },
      "outputs": [],
      "source": [
        "nltk.download('popular', quiet=True)\n",
        "nltk.download('punkt')\n",
        "nltk.download('punkt_tab')\n",
        "nltk.download('wordnet')"
      ]
    },
    {
      "cell_type": "code",
      "execution_count": null,
      "metadata": {
        "id": "tmEXL1e0Yfwd"
      },
      "outputs": [],
      "source": [
        "f=open('/file.txt','r',errors = 'ignore')\n",
        "raw=f.read()\n",
        "raw = raw.lower()\n",
        "print(raw)"
      ]
    },
    {
      "cell_type": "markdown",
      "metadata": {
        "id": "Dq62CKDuZEbW"
      },
      "source": [
        "Tokennization"
      ]
    },
    {
      "cell_type": "code",
      "execution_count": null,
      "metadata": {
        "id": "SwSI5z-EZDHV"
      },
      "outputs": [],
      "source": [
        "import nltk\n",
        "sent_tokens = nltk.sent_tokenize(raw)\n",
        "word_tokens = nltk.word_tokenize(raw)"
      ]
    },
    {
      "cell_type": "code",
      "execution_count": null,
      "metadata": {
        "id": "CluBYenGaPcu"
      },
      "outputs": [],
      "source": [
        "lemmer = nltk.stem.WordNetLemmatizer()\n",
        "def LemTokens(tokens):\n",
        "    return [lemmer.lemmatize(token) for token in tokens]\n",
        "\n",
        "remove_punct_dict = dict((ord(punct),None)for punct in string.punctuation)\n",
        "def LemNormalize(text):\n",
        "    return LemTokens(nltk.word_tokenize(text.lower().translate(remove_punct_dict)))\n",
        "print(lemmer.lemmatize(\"cats\"))\n",
        "#"
      ]
    },
    {
      "cell_type": "code",
      "execution_count": null,
      "metadata": {
        "id": "BBWHINygrerE"
      },
      "outputs": [],
      "source": [
        "Greeting_input=(\"hello\", \"hi\", \"greetings\", \"what's up\", \"hey\",\\\n",
        "                \"how are you\")\n",
        "Greeting_response=[\"hi\", \"hey\", \"hi there\", \"hello\", \"I am glad! You are talking to me\",\\\n",
        "                   \"I am fine! How are you?\"]\n",
        "\n",
        "def greeting(sentence):\n",
        "  for word in sentence.split():\n",
        "    if word.lower() in Greeting_input:\n",
        "      return random.choice(Greeting_response)"
      ]
    },
    {
      "cell_type": "code",
      "execution_count": null,
      "metadata": {
        "id": "8CvdZTOEsyjf"
      },
      "outputs": [],
      "source": [
        "def response(user_response):\n",
        "  robo_response=''\n",
        "  sent_tokens.append(user_response)\n",
        "  TfidfVec = TfidfVectorizer(tokenizer=LemNormalize, stop_words='english')\n",
        "  tfidf = TfidfVec.fit_transform(sent_tokens)\n",
        "  vals=cosine_similarity(tfidf[-1], tfidf)\n",
        "  idx=vals.argsort()[0][-2]\n",
        "  flat=vals.flatten()\n",
        "  flat.sort()\n",
        "  req_tfidf=flat[-2]\n",
        "  if (req_tfidf==0):\n",
        "    robo_response=robo_response+\"I am sorry! I don't understand you\"\n",
        "    return robo_response\n",
        "  else:\n",
        "    robo_response=robo_response+sent_tokens[idx]\n",
        "    return robo_response"
      ]
    },
    {
      "cell_type": "code",
      "execution_count": null,
      "metadata": {
        "colab": {
          "background_save": true,
          "base_uri": "https://localhost:8080/"
        },
        "id": "K5Xvrnoiultm",
        "outputId": "695a1d02-c052-4a5e-81e7-19060dad71c8"
      },
      "outputs": [
        {
          "name": "stdout",
          "output_type": "stream",
          "text": [
            "SABot: My name is SABot. How can I assist you?.If you want to exit, type Bye!\n",
            "SABot: hi\n",
            "SABot: q4: what is word embedding in nlp?\n",
            "SABot: q5: what is the difference between hard link and soft link in linux?\n",
            "SABot: q5: what is the difference between hard link and soft link in linux?\n"
          ]
        }
      ],
      "source": [
        "flag=True\n",
        "print(\"SABot: My name is SABot. How can I assist you?.\\\n",
        "If you want to exit, type Bye!\")\n",
        "while(flag==True):\n",
        "  user_response=input()\n",
        "  user_response=user_response.lower()\n",
        "  if(user_response!='bye'):\n",
        "    if(user_response=='thanks' or user_response=='thank you'):\n",
        "      flag=False\n",
        "      print(\"SABot: You are welcome..\")\n",
        "    else:\n",
        "      if(greeting(user_response)!=None):\n",
        "        print(\"SABot: \"+greeting(user_response))\n",
        "      else:\n",
        "        print(\"SABot: \",end=\"\")\n",
        "        print(response(user_response))\n",
        "        sent_tokens.remove(user_response)\n",
        "  else:\n",
        "    print(\"SABot: Bye! take care..\")\n",
        "    flag=True"
      ]
    },
    {
      "cell_type": "code",
      "source": [],
      "metadata": {
        "id": "6d85DxTOiUqU"
      },
      "execution_count": null,
      "outputs": []
    }
  ],
  "metadata": {
    "colab": {
      "provenance": []
    },
    "kernelspec": {
      "display_name": "Python 3",
      "name": "python3"
    },
    "language_info": {
      "name": "python"
    }
  },
  "nbformat": 4,
  "nbformat_minor": 0
}