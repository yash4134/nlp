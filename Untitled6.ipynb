{
  "nbformat": 4,
  "nbformat_minor": 0,
  "metadata": {
    "colab": {
      "provenance": [],
      "gpuType": "T4"
    },
    "kernelspec": {
      "name": "python3",
      "display_name": "Python 3"
    },
    "language_info": {
      "name": "python"
    },
    "accelerator": "GPU"
  },
  "cells": [
    {
      "cell_type": "code",
      "execution_count": 2,
      "metadata": {
        "id": "_u5RE6Xw5ofM"
      },
      "outputs": [],
      "source": [
        "import numpy as np\n",
        "import matplotlib.pyplot as plt\n",
        "from tqdm import tqdm\n",
        "from keras.layers import Input, Dense, Dropout, LeakyReLU\n",
        "from keras.models import Model, Sequential\n",
        "from keras.datasets import mnist\n",
        "from keras.optimizers import Adam\n",
        "from keras import initializers"
      ]
    },
    {
      "cell_type": "code",
      "source": [
        "np.random.seed(10)\n",
        "random_din=100"
      ],
      "metadata": {
        "id": "bLuoS_Ou81Xr"
      },
      "execution_count": 3,
      "outputs": []
    },
    {
      "cell_type": "code",
      "source": [
        "def load_mnist_data():\n",
        "  (x_train, y_train),(x_test,y_test)=mnist.load_data()\n",
        "  x_train=(x_train.astype(np.float32)-127.5)/127.5\n",
        "  x_train=x_train.reshape(60000,784)\n",
        "  return (x_train,y_train,x_test,y_test)"
      ],
      "metadata": {
        "id": "HvZbOxGq9bJw"
      },
      "execution_count": 4,
      "outputs": []
    },
    {
      "cell_type": "code",
      "source": [
        "def get_optimizer():\n",
        "  return Adam(learning_rate=0.0002,beta_1=0.5)"
      ],
      "metadata": {
        "id": "rUgM0mEU-PnX"
      },
      "execution_count": 6,
      "outputs": []
    },
    {
      "cell_type": "code",
      "source": [
        "def get_generator(optimizer):\n",
        "  generator=Sequential()\n",
        "  generator.add(Dense(256,input_dim=random_din,\\\n",
        "                      kernel_initializer=initializers.RandomNormal(stddev=0.02)))\n",
        "  generator.add(LeakyReLU(0.2))\n",
        "\n",
        "  generator.add(Dense(512))\n",
        "  generator.add(LeakyReLU(0.2))\n",
        "\n",
        "  generator.add(Dense(1024))\n",
        "  generator.add(LeakyReLU(0.2))\n",
        "\n",
        "  generator.add(Dense(784,activation='tanh'))\n",
        "  generator.compile(loss='binary_crossentropy',optimizer=optimizer)\n",
        "  return generator"
      ],
      "metadata": {
        "id": "ff-fuiV7_H6f"
      },
      "execution_count": 9,
      "outputs": []
    },
    {
      "cell_type": "code",
      "source": [
        "def get_discriminator(optimizer):\n",
        "  discriminator=Sequential()\n",
        "  discriminator.add(Dense(1024,input_dim=784,\\\n",
        "                      kernel_initializer=initializers.RandomNormal(stddev=0.02)))\n",
        "  discriminator.add(LeakyReLU(0.2))\n",
        "  discriminator.add(Dropout(0.3))\n",
        "\n",
        "  discriminator.add(Dense(512))\n",
        "  discriminator.add(LeakyReLU(0.2))\n",
        "  discriminator.add(Dropout(0.3))\n",
        "\n",
        "  discriminator.add(Dense(256))\n",
        "  discriminator.add(LeakyReLU(0.2))\n",
        "  discriminator.add(Dropout(0.3))\n",
        "\n",
        "  discriminator.add(Dense(1,activation='sigmoid'))\n",
        "  discriminator.compile(loss='binary_crossentropy',optimizer=optimizer)\n",
        "  return discriminator"
      ],
      "metadata": {
        "id": "NLmTjOqKAZXa"
      },
      "execution_count": 12,
      "outputs": []
    },
    {
      "cell_type": "code",
      "source": [
        "def get_gan_network(discriminator,random_din,generator,optimizer):\n",
        "  discriminator.trainable=False\n",
        "  gan_input=Input(shape=(random_din,))\n",
        "  x=generator(gan_input)\n",
        "  gan_output=discriminator(x)\n",
        "  gan=Model(inputs=gan_input,outputs=gan_output)\n",
        "  gan.compile(loss='binary_crossentropy',optimizer=optimizer)\n",
        "  return gan"
      ],
      "metadata": {
        "id": "aiPBqm0wAGsw"
      },
      "execution_count": 13,
      "outputs": []
    },
    {
      "cell_type": "code",
      "source": [
        "def plot_generated_images(epoch,generator,examples=100,dim=(10,10),figsize=(10,10)):\n",
        "  noise=np.random.normal(0,1,size=[examples,random_din])\n",
        "  generated_images=generator.predict(noise)\n",
        "  generated_images=generated_images.reshape(100,28,28)\n",
        "  plt.figure(figsize=figsize)\n",
        "\n",
        "  for i in range(generated_images.shape[0]):\n",
        "    plt.subplot(dim[0],dim[1],i+1)\n",
        "    plt.imshow(generated_images[i],interpolation='nearest',\\\n",
        "               cmap='gray_r')\n",
        "    plt.axis('off')\n",
        "  plt.tight_layout()\n",
        "  plt.savefig('gan_generated_image_epoch_%d.png'%epoch)\n",
        ""
      ],
      "metadata": {
        "id": "EHBapUqACAsO"
      },
      "execution_count": 15,
      "outputs": []
    },
    {
      "cell_type": "code",
      "source": [
        "def train(epochs=1, batch_size=128):\n",
        "  x_train, y_train, x_test, y_test=load_mnist_data()\n",
        "  batch_count=x_train.shape[0] / batch_size\n",
        "  generator=get_generator(get_optimizer())\n",
        "  discriminator=get_discriminator(get_optimizer())"
      ],
      "metadata": {
        "id": "qiriWHNbCy3S"
      },
      "execution_count": null,
      "outputs": []
    }
  ]
}